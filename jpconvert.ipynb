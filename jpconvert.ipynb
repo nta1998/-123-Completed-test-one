{
  "cells": [
    {
      "cell_type": "code",
      "execution_count": 1,
      "metadata": {
        "id": "BZKy95KbcWIZ"
      },
      "outputs": [],
      "source": [
        "import json\n",
        "import re"
      ]
    },
    {
      "cell_type": "code",
      "execution_count": 2,
      "metadata": {
        "id": "uwrxm5rycWIZ"
      },
      "outputs": [],
      "source": [
        "# Note that you need to move any external files (images usually) either to the local director of this script or two a url\n",
        "# and update your Jupyter notebook with the urls.\n",
        "\n",
        "# A bug that I have not fixed is if a ordered or unordered list terminates as the last line in a cell then the last\n",
        "# list item is closed without closing the enclosed paragraph (which is really annoying).\n",
        "# The simple fix is to add an end of line in the Jupyter notebook anytime one of these environments ends a cell."
      ]
    },
    {
      "cell_type": "code",
      "execution_count": 3,
      "metadata": {
        "id": "69V5r1FScWIa",
        "outputId": "989df116-b577-45da-b77c-db1af59e8b63",
        "colab": {
          "base_uri": "https://localhost:8080/",
          "height": 198
        }
      },
      "outputs": [
        {
          "output_type": "error",
          "ename": "FileNotFoundError",
          "evalue": "[Errno 2] No such file or directory: '../STAT_411/13 - Unsupervised Learning.ipynb'",
          "traceback": [
            "\u001b[0;31m---------------------------------------------------------------------------\u001b[0m",
            "\u001b[0;31mFileNotFoundError\u001b[0m                         Traceback (most recent call last)",
            "\u001b[0;32m/tmp/ipython-input-3608466243.py\u001b[0m in \u001b[0;36m<cell line: 0>\u001b[0;34m()\u001b[0m\n\u001b[1;32m      1\u001b[0m \u001b[0;31m# Read in the notebook file\u001b[0m\u001b[0;34m\u001b[0m\u001b[0;34m\u001b[0m\u001b[0m\n\u001b[1;32m      2\u001b[0m \u001b[0;34m\u001b[0m\u001b[0m\n\u001b[0;32m----> 3\u001b[0;31m \u001b[0mjson_file\u001b[0m \u001b[0;34m=\u001b[0m \u001b[0mopen\u001b[0m\u001b[0;34m(\u001b[0m\u001b[0;34m'../STAT_411/13 - Unsupervised Learning.ipynb'\u001b[0m\u001b[0;34m)\u001b[0m\u001b[0;34m\u001b[0m\u001b[0;34m\u001b[0m\u001b[0m\n\u001b[0m\u001b[1;32m      4\u001b[0m \u001b[0mdata\u001b[0m \u001b[0;34m=\u001b[0m \u001b[0mjson\u001b[0m\u001b[0;34m.\u001b[0m\u001b[0mload\u001b[0m\u001b[0;34m(\u001b[0m\u001b[0mjson_file\u001b[0m\u001b[0;34m)\u001b[0m\u001b[0;34m\u001b[0m\u001b[0;34m\u001b[0m\u001b[0m\n",
            "\u001b[0;31mFileNotFoundError\u001b[0m: [Errno 2] No such file or directory: '../STAT_411/13 - Unsupervised Learning.ipynb'"
          ]
        }
      ],
      "source": [
        "# Read in the notebook file\n",
        "\n",
        "json_file = open('../STAT_411/13 - Unsupervised Learning.ipynb')\n",
        "data = json.load(json_file)"
      ]
    },
    {
      "cell_type": "code",
      "execution_count": null,
      "metadata": {
        "id": "HQEAjw1GcWIa"
      },
      "outputs": [],
      "source": [
        "# cells is an array of the cell data from the notebook\n",
        "\n",
        "cells = data['cells']"
      ]
    },
    {
      "cell_type": "code",
      "execution_count": null,
      "metadata": {
        "id": "tPlg5ayVcWIa"
      },
      "outputs": [],
      "source": [
        "current = 0"
      ]
    },
    {
      "cell_type": "code",
      "execution_count": null,
      "metadata": {
        "id": "YzcCo3z-cWIa"
      },
      "outputs": [],
      "source": [
        "def new_section(p, current, lev):\n",
        "    out = ''\n",
        "    if current == 1:\n",
        "        out += '<section>\\n <title>'\n",
        "        out += p[lev:]\n",
        "        out += '</title>'\n",
        "    elif current == 2:\n",
        "        out += '<subsection>\\n <title>'\n",
        "        out += p[lev:]\n",
        "        out += '</title>'\n",
        "    elif current == 3:\n",
        "        out += '<subsubsection>\\n <title>'\n",
        "        out += p[lev:]\n",
        "        out += '</title>'\n",
        "    elif current == 4:\n",
        "        out += '<paragraphs>\\n <title>'\n",
        "        out += p[lev:]\n",
        "        out += '</title>'\n",
        "\n",
        "    return out"
      ]
    },
    {
      "cell_type": "code",
      "execution_count": null,
      "metadata": {
        "id": "mclSp2DRcWIa"
      },
      "outputs": [],
      "source": [
        "def close_section(current):\n",
        "    out = ''\n",
        "\n",
        "    if current == 1:\n",
        "        out += '\\n</section>\\n'\n",
        "    elif current == 2:\n",
        "        out += '\\n</subsection>\\n'\n",
        "    elif current == 3:\n",
        "        out += '\\n</subsubsection>\\n'\n",
        "    elif current == 4:\n",
        "        out += '\\n</paragraphs>\\n'\n",
        "\n",
        "    return out"
      ]
    },
    {
      "cell_type": "code",
      "execution_count": null,
      "metadata": {
        "id": "DRXHxh_RcWIa"
      },
      "outputs": [],
      "source": [
        "def remove_colon(p):\n",
        "\n",
        "    if p[-2]==':':\n",
        "        return p[:-2]+p[-1]\n",
        "    else:\n",
        "        return p\n",
        ""
      ]
    },
    {
      "cell_type": "code",
      "execution_count": null,
      "metadata": {
        "id": "kr_3Eo-VcWIa"
      },
      "outputs": [],
      "source": [
        "def is_quote_envr(p, envr):\n",
        "\n",
        "    out = ''\n",
        "\n",
        "    if p[0]=='>' and not '>' in envr:     # If this is the start of a quote block, use the first line as title\n",
        "        envr += ['>']\n",
        "        if ':' in p:\n",
        "            p = remove_colon(p)\n",
        "        out += '<blockquote><paragraphs><title>'+p[1:-1]+'</title>\\n'\n",
        "        p = ''\n",
        "    elif p[0]=='>':   # If this is the middle of the quote block, return a new p\n",
        "        p = p[1:].lstrip()\n",
        "    elif envr[-1]=='>':  # If this is the line after the end of a quote block, adjust envr and close quote block\n",
        "        envr = envr[:-1]\n",
        "        out += '</paragraphs></blockquote>\\n'\n",
        "\n",
        "    return out, p, envr"
      ]
    },
    {
      "cell_type": "code",
      "execution_count": null,
      "metadata": {
        "id": "1RZi2KMWcWIb"
      },
      "outputs": [],
      "source": [
        "def is_enumerate_envr(p, envr):\n",
        "\n",
        "    out = ''\n",
        "\n",
        "    if len(p)<2:\n",
        "        pt = 'XX'\n",
        "    else:\n",
        "        pt = p\n",
        "\n",
        "    if str.isdigit(p[0]) and p[1]=='.':   # Are we in an ordered list\n",
        "        if not 'enumerate' in envr:         # check if the environment has been set to ordered list\n",
        "            envr += ['p', 'enumerate']\n",
        "            out += '<p><ol>\\n'\n",
        "\n",
        "        temp, envr = read_line_no_enumerate(p[2:], envr)\n",
        "        out += '<li>'+temp+'</li>\\n'\n",
        "        p = ''      # Add the item  (need to come back and add the per character scanning here)\n",
        "    elif envr[-1]=='enumerate':    # If the Jupyter file is not in an ordered list but envr still is, back out\n",
        "                                   # and close.\n",
        "        envr = envr[0:-2]\n",
        "        out += '</ol></p>\\n'\n",
        "\n",
        "    return out, p, envr\n",
        ""
      ]
    },
    {
      "cell_type": "code",
      "execution_count": null,
      "metadata": {
        "id": "GRbkM6d-cWIb"
      },
      "outputs": [],
      "source": [
        "def is_itemize_envr(p, envr):\n",
        "\n",
        "    out = ''\n",
        "\n",
        "    if len(p)<2:\n",
        "        pt = 'XX'\n",
        "    else:\n",
        "        pt = p\n",
        "\n",
        "    if pt[0:2]=='- ':   # Are we in an unordered list\n",
        "        if not 'itemize' in envr:         # check if the environment has been set to unordered list\n",
        "            envr += ['p', 'itemize']\n",
        "            out += '<p><ul>\\n'\n",
        "\n",
        "        temp, envr = read_line_no_itemize(p[2:], envr)\n",
        "        out += '<li>'+temp+ '</li>\\n'      # Add the item  (need to come back and add the per character scanning here)\n",
        "        p = ''\n",
        "    elif envr[-1]=='itemize':    # If the Jupyter file is not in an ordered list but envr still is, back out\n",
        "                                   # and close.\n",
        "        envr = envr[0:-2]\n",
        "        out += '</ul></p>\\n'\n",
        "\n",
        "    return out, p, envr"
      ]
    },
    {
      "cell_type": "code",
      "execution_count": null,
      "metadata": {
        "id": "Gbetk4k3cWIb"
      },
      "outputs": [],
      "source": [
        "def is_paragraph(p, envr):\n",
        "\n",
        "    out = ''\n",
        "\n",
        "    if len(p)==0:   # Pad the string if it is less than 1 character -- note less than one character means it has\n",
        "                    # been processed. Should we instead skip this function in the call?\n",
        "        pt = '\\n'\n",
        "    else:\n",
        "        pt = p\n",
        "\n",
        "    if pt[0]!='\\n' and envr[-1]!='p':  # Check if we should start a new paragraph\n",
        "        envr += ['p']\n",
        "        out = '<p>'\n",
        "    elif (p=='\\n' or p=='') and envr[-1]=='p': # Check if we should close the current paragraph\n",
        "        envr = envr[0:-1]\n",
        "        out = '</p>'\n",
        "\n",
        "    return out, p, envr"
      ]
    },
    {
      "cell_type": "code",
      "execution_count": null,
      "metadata": {
        "id": "FeDjRK-JcWIb"
      },
      "outputs": [],
      "source": [
        "def render_link(p):\n",
        "\n",
        "    out = ''\n",
        "\n",
        "    end1 = p.index(']')\n",
        "    end2 = p.index(')')\n",
        "\n",
        "    text = p[1:end1]\n",
        "    href = p[end1+2:end2]\n",
        "\n",
        "    out = '<url href=\"'+href+'\"> '+text+' </url> '\n",
        "    p = p[end2+1:]\n",
        "\n",
        "    return out, p"
      ]
    },
    {
      "cell_type": "code",
      "execution_count": null,
      "metadata": {
        "id": "wdXA8b9GcWIb"
      },
      "outputs": [],
      "source": [
        "def render_em(p):\n",
        "\n",
        "    # A note here:  Markdown includes * and ** for italics and then bold. We will translate these in Pretext as the <em> and\n",
        "    # <alert> tags resp..\n",
        "\n",
        "    out = ''\n",
        "\n",
        "    end1 = p.index('*')\n",
        "    if p[end1+1]=='*':\n",
        "        end2 = p[(end1+2):].index('*')\n",
        "        text = p[(end1+2):end2+2]\n",
        "        out = '<alert>' + text + '</alert>'\n",
        "        p = p[end2+4:]\n",
        "    else:\n",
        "        end2 = p[(end1+1):].index('*')\n",
        "        text = p[end1+1:end2+1]\n",
        "        out = '<em>' + text + '</em>'\n",
        "        p = p[end2+2:]\n",
        "\n",
        "    return out, p"
      ]
    },
    {
      "cell_type": "code",
      "execution_count": null,
      "metadata": {
        "id": "CYAsDWBIcWIb"
      },
      "outputs": [],
      "source": [
        "def render_img(p):\n",
        "\n",
        "    # The basic issue here is that we have to render the image code all at once as otherwise the quote environment\n",
        "    # will catch it when the bracket is closed with '>'\n",
        "\n",
        "    out = ''\n",
        "\n",
        "    equal = p.index('=')\n",
        "    end = p.index('>')\n",
        "    if '\"' in p[equal:end]:\n",
        "        source_start = p[equal:].index('\"')+equal\n",
        "        source_end = p[source_start+1:].index('\"')+source_start+1\n",
        "    elif \"'\" in p[equal:end]:\n",
        "        source_start = p[equal:].index(\"'\")+equal\n",
        "        source_end = p[source_start+1:].index(\"'\")+source_start+1\n",
        "    else:\n",
        "        print('No quote in image environment.')\n",
        "    out = '<image source=' + p[source_start:source_end+1] + ' width=\"60%\"/>'\n",
        "    p = p[end+1:]\n",
        "\n",
        "    # Note that we are defaulting to a size specification of 60% - you will need to go through and adjust that.\n",
        "    # The issue is that Jupyter is using pixel specification and Pretext wants percentage of available width.\n",
        "\n",
        "    # Using Figure with empty caption?\n",
        "\n",
        "    return out, p"
      ]
    },
    {
      "cell_type": "code",
      "execution_count": null,
      "metadata": {
        "id": "WN3NrVCGcWIb"
      },
      "outputs": [],
      "source": [
        "def remove_br(p):\n",
        "\n",
        "    # Markdown requires <br> commands for carriage returns. Pretext has other methods (at the moment I'm just using <p>)\n",
        "\n",
        "    end = p.index('>')\n",
        "\n",
        "    return p[end+1:]"
      ]
    },
    {
      "cell_type": "code",
      "execution_count": null,
      "metadata": {
        "id": "P18gRig7cWIb"
      },
      "outputs": [],
      "source": [
        "def close_envr(envr):\n",
        "\n",
        "    out = ''\n",
        "\n",
        "    for code in envr[-1::-1]:\n",
        "        if code == '':\n",
        "            pass\n",
        "        elif code == 'p':\n",
        "            out += '</p>\\n'\n",
        "        elif code == 'enumerate':\n",
        "            out += '</ol>\\n'\n",
        "        elif code == 'itemize':\n",
        "            out += '</ul>\\n'\n",
        "        elif code == '>':\n",
        "             out += '</paragraphs></blockquote>\\n'\n",
        "        else:\n",
        "            print('Environment Code '+code+' Not Recognized')\n",
        "\n",
        "    return out"
      ]
    },
    {
      "cell_type": "code",
      "execution_count": null,
      "metadata": {
        "id": "ZfE34acncWIb"
      },
      "outputs": [],
      "source": [
        "def render_math(p):\n",
        "\n",
        "    # For now assuming mathematics is all on one line. Will need to update in the future for formulas\n",
        "    # that run over multiple lines.\n",
        "\n",
        "    if p[1] == '$':\n",
        "        start = 2\n",
        "        out = '<me>'\n",
        "        close = '</me>'\n",
        "    else:\n",
        "        start = 1\n",
        "        out = '<m>'\n",
        "        close = '</m>'\n",
        "\n",
        "    end = p[start:].index('$')\n",
        "\n",
        "    out += p[start:end+1] + close  # A little bothered by the +1 here...\n",
        "    p = p[end+2*start:]\n",
        "\n",
        "    return out, p\n",
        ""
      ]
    },
    {
      "cell_type": "code",
      "execution_count": null,
      "metadata": {
        "id": "kr_smCWCcWIb"
      },
      "outputs": [],
      "source": [
        "def read_line_no_enumerate(p, envr):\n",
        "\n",
        "    out = ''\n",
        "\n",
        "    while p!='': # Basically go through string character by character, though some control expressions are\n",
        "                 # handled as multiple characters.\n",
        "\n",
        "            # Some nesting of environments is not allowed:  bullet within bullet will not work.\n",
        "\n",
        "            # Check for quote environment (assumption for now is that quote environment is\n",
        "            # not nested in another envr)\n",
        "\n",
        "            temp, p, envr = is_quote_envr(p, envr)\n",
        "            out += temp\n",
        "\n",
        "            # Check for itemize environment, which could be nested in a quote or enumerate environment (will need\n",
        "            # to come back and fix this so the nesting could go the other way).\n",
        "\n",
        "            if len(p)>2:\n",
        "                if p[0:1]=='- ' or envr[-1]=='itemize':\n",
        "                    temp, p, envr = is_itemize_envr(p, envr)\n",
        "                    out += temp\n",
        "\n",
        "            # Check if we need a paragraph environment - note that enumerate (and later list come with their own)\n",
        "\n",
        "            if len(p)>0 or envr[-1]=='p':\n",
        "                temp, p, envr = is_paragraph(p, envr)\n",
        "                out += temp\n",
        "\n",
        "            # Read by characters, looking for links, math environments, and other text markdown\n",
        "\n",
        "            if len(p) > 0:\n",
        "                if p[0]=='[' and ']' in p:\n",
        "                    temp, p = render_link(p)\n",
        "                    out += temp\n",
        "                elif p[0]=='*':\n",
        "                    temp, p = render_em(p)\n",
        "                    out += temp\n",
        "                elif p[0]=='$':\n",
        "                    temp, p = render_math(p)\n",
        "                    out += temp\n",
        "                elif p[0:4]=='<img':\n",
        "                    temp, p = render_img(p)\n",
        "                    out += temp\n",
        "                else:\n",
        "                    out += p[0]\n",
        "                    p = p[1:]\n",
        "\n",
        "    return out, envr"
      ]
    },
    {
      "cell_type": "code",
      "execution_count": null,
      "metadata": {
        "id": "YHHauhYVcWIc"
      },
      "outputs": [],
      "source": [
        "def read_line_no_itemize(p, envr):\n",
        "\n",
        "    out = ''\n",
        "\n",
        "    while p!='': # Basically go through string character by character, though some control expressions are\n",
        "                 # handled as multiple characters.\n",
        "\n",
        "            # Some nesting of environments is not allowed:  bullet within bullet will not work.\n",
        "\n",
        "            # Check for quote environment (assumption for now is that quote environment is\n",
        "            # not nested in another envr)\n",
        "\n",
        "            temp, p, envr = is_quote_envr(p, envr)\n",
        "            out += temp\n",
        "\n",
        "            # Assumption for now is that enumerate is not nested in any environment other than quote - will\n",
        "            # need to adjust this later.\n",
        "\n",
        "            if len(p)>2:\n",
        "                if (str.isdigit(p[0]) and p[1]=='.') or envr[-1]=='enumerate':\n",
        "                    temp, p, envr = is_enumerate_envr(p, envr)\n",
        "                    out += temp\n",
        "\n",
        "            # Check if we need a paragraph environment - note that enumerate (and later list come with their own)\n",
        "\n",
        "            if len(p)>0 or envr[-1]=='p':\n",
        "                temp, p, envr = is_paragraph(p, envr)\n",
        "                out += temp\n",
        "\n",
        "            # Read by characters, looking for links, math environments, and other text markdown\n",
        "\n",
        "            if len(p) > 0:\n",
        "                if p[0]=='[' and ']' in p:\n",
        "                    temp, p = render_link(p)\n",
        "                    out += temp\n",
        "                elif p[0]=='*':\n",
        "                    temp, p = render_em(p)\n",
        "                    out += temp\n",
        "                elif p[0]=='$':\n",
        "                    temp, p = render_math(p)\n",
        "                    out += temp\n",
        "                elif p[0:4]=='<img':\n",
        "                    temp, p = render_img(p)\n",
        "                    out += temp\n",
        "                else:\n",
        "                    out += p[0]\n",
        "                    p = p[1:]\n",
        "\n",
        "    return out, envr"
      ]
    },
    {
      "cell_type": "code",
      "execution_count": 4,
      "metadata": {
        "id": "nNhAyWg4cWIc"
      },
      "outputs": [],
      "source": [
        "def read_line(p, envr):\n",
        "\n",
        "    out = ''\n",
        "\n",
        "    while p!='': # Basically go through string character by character, though some control expressions are\n",
        "                 # handled as multiple characters.\n",
        "\n",
        "            # Some nesting of environments is not allowed:  bullet within bullet will not work.\n",
        "\n",
        "            # Check for quote environment (assumption for now is that quote environment is\n",
        "            # not nested in another envr)\n",
        "\n",
        "            temp, p, envr = is_quote_envr(p, envr)\n",
        "            out += temp\n",
        "\n",
        "            # Check for enumerate environment, which could be nested in a quote environment (will need to come\n",
        "            # back and fix this so the nesting could go the other way).\n",
        "\n",
        "            # Assumption for now is that enumerate is not nested in any environment other than quote - will\n",
        "            # need to adjust this later.\n",
        "\n",
        "            if len(p)>2 or envr[-1]=='enumerate':\n",
        "                temp, p, envr = is_enumerate_envr(p, envr)\n",
        "                out += temp\n",
        "\n",
        "            # Check for itemize environment, which could be nested in a quote or enumerate environment (will need\n",
        "            # to come back and fix this so the nesting could go the other way).\n",
        "\n",
        "            if len(p)>2 or envr[-1]=='itemize':\n",
        "                temp, p, envr = is_itemize_envr(p, envr)\n",
        "                out += temp\n",
        "\n",
        "            # Check if we need a paragraph environment - note that enumerate (and later list come with their own)\n",
        "\n",
        "            if len(p)>0 or 'p' in envr:\n",
        "                temp, p, envr = is_paragraph(p, envr)\n",
        "                out += temp\n",
        "\n",
        "            # Read by characters, looking for links, math environments, and other text markdown\n",
        "\n",
        "            if len(p) > 0:\n",
        "                if p[0]=='[' and ']' in p:\n",
        "                    temp, p = render_link(p)\n",
        "                    out += temp\n",
        "                elif p[0]=='*':\n",
        "                    temp, p = render_em(p)\n",
        "                    out += temp\n",
        "                elif p[0]=='$':\n",
        "                    temp, p = render_math(p)\n",
        "                    out += temp\n",
        "                elif p[0:4]=='<img':\n",
        "                    temp, p = render_img(p)\n",
        "                    out += temp\n",
        "                else:\n",
        "                    out += p[0]\n",
        "                    p = p[1:]\n",
        "\n",
        "    return out, envr"
      ]
    },
    {
      "cell_type": "code",
      "execution_count": 5,
      "metadata": {
        "id": "n4FhpTuTcWIc"
      },
      "outputs": [],
      "source": [
        "def manipulate_sections(p, current):\n",
        "\n",
        "        out = ''\n",
        "\n",
        "        lev = p.count('#')  # Check if this line is identifying a section and then compare with current section\n",
        "                            # position and adjust.\n",
        "\n",
        "        if not lev == 0:\n",
        "            while current > lev:\n",
        "                out += close_section(current)\n",
        "                current += -1\n",
        "            if current == lev:\n",
        "                out += close_section(current)\n",
        "                out += new_section(p, current, lev)\n",
        "                p = '\\n'\n",
        "            while current < lev-1:\n",
        "                current += 1\n",
        "                out += new_section('\\n', current, lev)\n",
        "            if current == lev-1:\n",
        "                current += 1\n",
        "                out += new_section(p, current, lev)\n",
        "                p = '\\n'\n",
        "\n",
        "        return out, p, current"
      ]
    },
    {
      "cell_type": "code",
      "execution_count": 6,
      "metadata": {
        "id": "9duK6eGicWIc"
      },
      "outputs": [],
      "source": [
        "def read_metadata(cell, current):\n",
        "    out = ''\n",
        "    temp = ''\n",
        "\n",
        "    envr = ['']  # Initialize an list to keep track of open environments assumption will be that all\n",
        "                   # multiline environments are identified in markdown by the first character of the line.\n",
        "                   # quote environment is terminated when the > symbol is dropped.\n",
        "                   # enumerate and bullet environments either when the enclosing environment increments or\n",
        "                    # at the termination of the block.\n",
        "\n",
        "    for p in cell:  # cycle through each line of this cell\n",
        "        if p[0]=='#': # Check if we are changing sectioning\n",
        "            temp, p, current = manipulate_sections(p, current)\n",
        "            out += temp\n",
        "\n",
        "        temp, envr = read_line(p, envr)\n",
        "        out += temp\n",
        "\n",
        "    # at the end of a markdown block close any envr left open\n",
        "\n",
        "    out += close_envr(envr)\n",
        "\n",
        "    return out, current"
      ]
    },
    {
      "cell_type": "code",
      "execution_count": 7,
      "metadata": {
        "id": "qz5dtiFscWIc"
      },
      "outputs": [],
      "source": [
        "def read_code(source, outputs=None):\n",
        "\n",
        "#    out = '<sage language=\"python\">\\n'\n",
        "\n",
        "    # 7-bit C1 ANSI sequences\n",
        "    ansi_escape = re.compile(r'''\n",
        "    \\x1B    # ESC\n",
        "    [@-_]   # 7-bit C1 Fe\n",
        "    [0-?]*  # Parameter bytes\n",
        "    [ -/]*  # Intermediate bytes\n",
        "    [@-~]   # Final byte\n",
        "    ''', re.VERBOSE)\n",
        "\n",
        "    out = '<console>\\n'\n",
        "\n",
        "    out += '<input>\\n'+''.join(source).replace('<', '&lt;')+'\\n</input>\\n'\n",
        "\n",
        "    if outputs:\n",
        "\n",
        "        # outputs can be a string on its own, or a list of strings for multiline display\n",
        "\n",
        "        temp = ''\n",
        "\n",
        "        if type(outputs)==list:\n",
        "            for p in outputs:\n",
        "                strip = ansi_escape.sub('', p)  # ocassionally Jupyter has formated the output to include ASCII control\n",
        "                                              # Characters. This snippet removes them and gives a clean string.\n",
        "                temp += strip\n",
        "        else:\n",
        "            temp = ansi_escape.sub('', outputs) # ocassionally Jupyter has formated the output to include ASCII control\n",
        "                                                # Characters. This snippet removes them and gives a clearn string.\n",
        "\n",
        "        out += '<output>\\n'+''.join(temp).replace('<', '&lt;')+'\\n</output>\\n'\n",
        "\n",
        "#    out += '</sage>\\n'\n",
        "\n",
        "    out += '</console>\\n'\n",
        "\n",
        "    return out"
      ]
    },
    {
      "cell_type": "code",
      "execution_count": 8,
      "metadata": {
        "id": "FVaZGC1HcWIc"
      },
      "outputs": [],
      "source": [
        "pretext_head = '''<pretext>\n",
        "\n",
        "    <docinfo>\n",
        "        <macros>\n",
        "        \\\\newcommand{\\doubler}[1]{2#1}\n",
        "        </macros>\n",
        "    </docinfo>\n",
        "\n",
        "    <article xml:id=\"minimal\">\n",
        "        <title>Conversion Script Test</title>\n",
        "\n",
        "        <frontmatter>\n",
        "\n",
        "            <titlepage>\n",
        "                <author>\n",
        "                    <personname>Virgil U Pierce</personname>\n",
        "                    <institution>University of Northern Colorado</institution>\n",
        "                </author>\n",
        "                <date><today /></date>\n",
        "            </titlepage>\n",
        "\n",
        "            <abstract>\n",
        "                <p>Testing of conversion of a Jupyter notebook to Pretext, and compiling</p>\n",
        "            </abstract>\n",
        "\n",
        "            <introduction>\n",
        "\n",
        "                <p>Check if process.call worked</p>\n",
        "\n",
        "                <p>This is a short paragraph to introduce the article (but it is not the abstract).\n",
        "                It is optional, in case it would be preferable to have the first section be titled an\n",
        "                <q>Introduction.</q></p>\n",
        "            </introduction>\n",
        "\n",
        "        </frontmatter>'''"
      ]
    },
    {
      "cell_type": "code",
      "execution_count": 9,
      "metadata": {
        "id": "zEZACNrvcWIc"
      },
      "outputs": [],
      "source": [
        "pretext_tail = '''</article>\n",
        "</pretext>'''"
      ]
    },
    {
      "cell_type": "code",
      "execution_count": 10,
      "metadata": {
        "id": "H8UCTmQocWIc"
      },
      "outputs": [],
      "source": [
        "def add_block(cell, current):\n",
        "\n",
        "    out = ''\n",
        "\n",
        "    if cell['cell_type']=='markdown':\n",
        "        out, current = read_metadata(cell['source'], current)\n",
        "    elif cell['cell_type']=='code':\n",
        "        out += '<listing>\\n'\n",
        "        if cell['outputs']:\n",
        "            if 'data' in cell['outputs'][0]:\n",
        "                out += read_code(cell['source'], cell['outputs'][0]['data']['text/plain'])\n",
        "            elif 'text' in cell['outputs'][0]:\n",
        "                out += read_code(cell['source'], cell['outputs'][0]['text'])\n",
        "        else:\n",
        "            out += read_code(cell['source'])\n",
        "        out += '</listing>\\n'\n",
        "    else:\n",
        "        print('Unkown Cell Type Found')\n",
        "\n",
        "    return out, current"
      ]
    },
    {
      "cell_type": "code",
      "execution_count": 11,
      "metadata": {
        "id": "LNE9hHQUcWIc",
        "outputId": "9d2e37de-0222-4ce8-8265-0c2c9245d0de",
        "colab": {
          "base_uri": "https://localhost:8080/",
          "height": 35
        }
      },
      "outputs": [
        {
          "output_type": "execute_result",
          "data": {
            "text/plain": [
              "'/usr/bin/python3'"
            ],
            "application/vnd.google.colaboratory.intrinsic+json": {
              "type": "string"
            }
          },
          "metadata": {},
          "execution_count": 11
        }
      ],
      "source": [
        "import sys\n",
        "\n",
        "sys.executable"
      ]
    },
    {
      "cell_type": "code",
      "execution_count": 12,
      "metadata": {
        "id": "i7BVwayJcWId",
        "outputId": "28beadc4-9655-482d-aebe-c5846ebd8f51",
        "colab": {
          "base_uri": "https://localhost:8080/",
          "height": 216
        }
      },
      "outputs": [
        {
          "output_type": "error",
          "ename": "NameError",
          "evalue": "name 'cells' is not defined",
          "traceback": [
            "\u001b[0;31m---------------------------------------------------------------------------\u001b[0m",
            "\u001b[0;31mNameError\u001b[0m                                 Traceback (most recent call last)",
            "\u001b[0;32m/tmp/ipython-input-3200073409.py\u001b[0m in \u001b[0;36m<cell line: 0>\u001b[0;34m()\u001b[0m\n\u001b[1;32m      3\u001b[0m \u001b[0mout\u001b[0m \u001b[0;34m=\u001b[0m \u001b[0;34m''\u001b[0m\u001b[0;34m\u001b[0m\u001b[0;34m\u001b[0m\u001b[0m\n\u001b[1;32m      4\u001b[0m \u001b[0;34m\u001b[0m\u001b[0m\n\u001b[0;32m----> 5\u001b[0;31m \u001b[0;32mfor\u001b[0m \u001b[0mcell\u001b[0m \u001b[0;32min\u001b[0m \u001b[0mcells\u001b[0m\u001b[0;34m:\u001b[0m\u001b[0;34m\u001b[0m\u001b[0;34m\u001b[0m\u001b[0m\n\u001b[0m\u001b[1;32m      6\u001b[0m     \u001b[0mprint\u001b[0m\u001b[0;34m(\u001b[0m\u001b[0;34m'Reading Cell {}'\u001b[0m\u001b[0;34m.\u001b[0m\u001b[0mformat\u001b[0m\u001b[0;34m(\u001b[0m\u001b[0mcells\u001b[0m\u001b[0;34m.\u001b[0m\u001b[0mindex\u001b[0m\u001b[0;34m(\u001b[0m\u001b[0mcell\u001b[0m\u001b[0;34m)\u001b[0m\u001b[0;34m)\u001b[0m \u001b[0;34m)\u001b[0m\u001b[0;34m\u001b[0m\u001b[0;34m\u001b[0m\u001b[0m\n\u001b[1;32m      7\u001b[0m     \u001b[0mtemp\u001b[0m\u001b[0;34m,\u001b[0m \u001b[0mcurrent\u001b[0m \u001b[0;34m=\u001b[0m \u001b[0madd_block\u001b[0m\u001b[0;34m(\u001b[0m\u001b[0mcell\u001b[0m\u001b[0;34m,\u001b[0m \u001b[0mcurrent\u001b[0m\u001b[0;34m)\u001b[0m\u001b[0;34m\u001b[0m\u001b[0;34m\u001b[0m\u001b[0m\n",
            "\u001b[0;31mNameError\u001b[0m: name 'cells' is not defined"
          ]
        }
      ],
      "source": [
        "current = 0\n",
        "\n",
        "out = ''\n",
        "\n",
        "for cell in cells:\n",
        "    print('Reading Cell {}'.format(cells.index(cell)) )\n",
        "    temp, current = add_block(cell, current)\n",
        "    out += temp\n",
        "\n",
        "# Final step for the block metadata read, close any currently open environments that have not already\n",
        "# been closed.\n",
        "\n",
        "# However List, Enumerate, and Quote environments will be assumed to terminate within a block.\n",
        "\n",
        "for i in range(current, 0, -1):\n",
        "    out += close_section(i)"
      ]
    },
    {
      "cell_type": "code",
      "execution_count": null,
      "metadata": {
        "id": "h_naDvVDcWId"
      },
      "outputs": [],
      "source": [
        "pretext = pretext_head + out + pretext_tail"
      ]
    },
    {
      "cell_type": "code",
      "execution_count": null,
      "metadata": {
        "id": "w5f5BxrpcWId"
      },
      "outputs": [],
      "source": [
        "text_file = open('test.xml', \"w\")\n",
        "\n",
        "text_file.write(pretext)\n",
        "\n",
        "text_file.close()"
      ]
    },
    {
      "cell_type": "code",
      "execution_count": null,
      "metadata": {
        "id": "LceyBzqdcWId"
      },
      "outputs": [],
      "source": [
        "%%bash\n",
        "xsltproc ../mathbook/xsl/mathbook-html.xsl test.xml"
      ]
    },
    {
      "cell_type": "code",
      "execution_count": null,
      "metadata": {
        "id": "QQ_IZALIcWId"
      },
      "outputs": [],
      "source": []
    }
  ],
  "metadata": {
    "kernelspec": {
      "display_name": "Python 3",
      "language": "python",
      "name": "python3"
    },
    "language_info": {
      "codemirror_mode": {
        "name": "ipython",
        "version": 3
      },
      "file_extension": ".py",
      "mimetype": "text/x-python",
      "name": "python",
      "nbconvert_exporter": "python",
      "pygments_lexer": "ipython3",
      "version": "3.7.4"
    },
    "colab": {
      "provenance": []
    }
  },
  "nbformat": 4,
  "nbformat_minor": 0
}